{
 "cells": [
  {
   "cell_type": "code",
   "execution_count": null,
   "id": "b627248b-7d31-4ef7-8a7c-218487ac37fa",
   "metadata": {},
   "outputs": [],
   "source": [
    "import os\n",
    "import matplotlib.pyplot as plt\n",
    "import numpy as np\n",
    "import pandas as pd\n",
    "\n",
    "from datetime import datetime\n",
    "from itertools import product\n",
    "from model import NeuralNet\n",
    "from simulated_annealing import SA, plot_histories\n",
    "from scipy.special import softmax \n",
    "from sklearn.datasets import load_iris\n",
    "from sklearn.neural_network import MLPClassifier\n",
    "from tqdm.notebook import tqdm\n",
    "\n",
    "np.set_printoptions(precision=4, suppress=True)\n",
    "np.random.seed(0)"
   ]
  },
  {
   "cell_type": "code",
   "execution_count": null,
   "id": "89e95747-e912-46bc-b7ec-5e0d8642792a",
   "metadata": {},
   "outputs": [],
   "source": [
    "data_attrs = load_iris()\n",
    "data_attrs.keys()\n",
    "\n",
    "data = data_attrs.data\n",
    "y = data_attrs.target\n",
    "print(data.shape, y.shape)\n",
    "\n",
    "data_norm = (data - data.mean(axis=0)) / data.std(axis=0)"
   ]
  },
  {
   "cell_type": "code",
   "execution_count": null,
   "id": "90913f83-d54f-480b-9d13-13009f7a8f6a",
   "metadata": {},
   "outputs": [],
   "source": [
    "model = NeuralNet(data=data_norm, y=y, hidden_units=2)    # Criando o modelo de Rede Neural\n",
    "num_iter = 5                                              # Número de execuções para cada algoritmo\n",
    "\n",
    "print(f'Quantidade de parâmetros da rede: {model.size(model.sample_weights())}')"
   ]
  },
  {
   "cell_type": "code",
   "execution_count": null,
   "id": "baaf9822-b382-4852-9f67-14574ee78dcd",
   "metadata": {},
   "outputs": [],
   "source": [
    "# Parâmetros da Rede Neural a partir do SGD\n",
    "lbfgs_loss, lbfgs_exec_time = np.zeros(num_iter), []\n",
    "\n",
    "for i in range(num_iter):\n",
    "    mlp_classifier = MLPClassifier(hidden_layer_sizes=(2,), solver='lbfgs', alpha=0.0, max_iter=2000, max_fun=50000, verbose=False)\n",
    "    start = datetime.now()\n",
    "    mlp_classifier.fit(data_norm, y)\n",
    "    lbfgs_exec_time.append(datetime.now() - start)\n",
    "    \n",
    "    p = mlp_classifier.predict_proba(data_norm)\n",
    "    lbfgs_loss[i] = model.cross_entropy(y, p)"
   ]
  },
  {
   "cell_type": "code",
   "execution_count": null,
   "id": "316cdf15-fc1b-45c2-b1ae-0b25d59bee69",
   "metadata": {},
   "outputs": [],
   "source": [
    "# Parâmetros da Rede Neural a partir do Simulated Annealing\n",
    "results = []\n",
    "\n",
    "N_options = [int(1e4), int(1e5)]\n",
    "T0_options = [1.]\n",
    "K_options =  [6]\n",
    "\n",
    "start_datetime = str(datetime.now()).split('.')[0].replace(' ', '_').replace(':', '').replace('-', '')\n",
    "\n",
    "for N, T0, K in product(N_options, T0_options, K_options):\n",
    "    histories = {}\n",
    "    eps = 0.01\n",
    "    for i in tqdm(range(num_iter), desc=f'T0 = {T0}, K = {K}, N = {N}'):\n",
    "        J_min, x_min, history, exec_time = SA(model, N=N, K=K, T0=T0, eps=eps)\n",
    "        results.append([N, K, T0, eps, J_min, x_min, exec_time])\n",
    "        if i == 0: histories['T'] = history[1, :]\n",
    "        histories[f'iter {i+1}'] = history[0, :]\n",
    "    hists = pd.DataFrame(histories)\n",
    "    try: os.mkdir(f\".\\\\results\\\\Iris_{start_datetime}\")\n",
    "    except: pass\n",
    "    hists.to_pickle(f\".\\\\results\\\\Iris_{start_datetime}\\\\histories_T0-{T0}_K-{K}_N-{N}.pkl\")\n",
    "        \n",
    "df = pd.DataFrame(results, columns=['N', 'K', 'T0', 'eps', 'J mínimo', 'x mínimo', 'Tempo de Execução'])\n",
    "df.to_pickle(f\".\\\\results\\\\Iris_{start_datetime}\\\\results.pkl\")"
   ]
  },
  {
   "cell_type": "code",
   "execution_count": null,
   "id": "5b969fea-85ce-43a9-a575-14d4fed31de6",
   "metadata": {},
   "outputs": [],
   "source": [
    "# start_datetime = '20220507_143854'\n",
    "\n",
    "df = pd.read_pickle(f'.\\\\results\\\\Iris_{start_datetime}\\\\results.pkl')\n",
    "\n",
    "# L-BFGS\n",
    "print(f'L-BFGS, J_mínimo: {np.round(lbfgs_loss.mean(), 4)} +/- {np.round(lbfgs_loss.std(), 4)}, Tempo de execução médio: {np.mean(lbfgs_exec_time)}')\n",
    "print()\n",
    "\n",
    "# Simulated Annealing\n",
    "for N, T0, K in product(N_options, T0_options, K_options):\n",
    "    # Plot optimization history\n",
    "    histories = pd.read_pickle(f'.\\\\results\\\\Iris_{start_datetime}\\\\histories_T0-{T0}_K-{K}_N-{N}.pkl')\n",
    "    plot_histories(histories, T0, K, N, savefig=True, dt=start_datetime)\n",
    "\n",
    "    # Plot results\n",
    "    filter_ = (df['T0'] == T0) & (df['K'] == K) & (df['N'] == N)\n",
    "    print(f'N: {N}', end=', ')\n",
    "    J_mean, J_std = df[filter_]['J mínimo'].mean(), df[filter_]['J mínimo'].std()\n",
    "    t_mean = df[filter_]['Tempo de Execução'].mean().to_pytimedelta()\n",
    "\n",
    "    print(f\"J_mínimo: {np.round(J_mean, 4)} +/- {np.round(J_std, 4)}\", end=', ')\n",
    "    print(f\"Tempo de execução médio: {t_mean}\")"
   ]
  },
  {
   "cell_type": "code",
   "execution_count": null,
   "id": "bfa26bd0-564d-47e6-bae3-18c0e3d9cdd0",
   "metadata": {},
   "outputs": [],
   "source": [
    "fig, ax = plt.subplots(figsize=(6, 5))\n",
    "\n",
    "ax.boxplot([lbfgs_loss.tolist()] + [df[df['N'] == N]['J mínimo'] for N in N_options], labels=['L-BFGS'] + N_options)\n",
    "ax.grid()\n",
    "ax.set_ylabel('J mínimo')\n",
    "ax.set_xlabel('N (Número de iterações por temperatura)')\n",
    "plt.show()"
   ]
  },
  {
   "cell_type": "code",
   "execution_count": null,
   "id": "f314b269-5404-46be-b379-ce534c148176",
   "metadata": {},
   "outputs": [],
   "source": [
    "idx = num_iter * (len(N_options) - 1) + df[df['N'] == N_options[-1]]['J mínimo'].argmin()\n",
    "x_min = df.iloc[idx, 5]\n",
    "df.iloc[idx, :]"
   ]
  },
  {
   "cell_type": "code",
   "execution_count": null,
   "id": "2c7dfe68-ee8e-438b-8ec3-b9dd2f49bdfb",
   "metadata": {},
   "outputs": [],
   "source": [
    "print(np.hstack([model(data_norm, x_min)[:50], model(data_norm, x_min)[50:100], model(data_norm, x_min)[100:]]))"
   ]
  },
  {
   "cell_type": "code",
   "execution_count": null,
   "id": "c907b7fd-db33-40e0-8421-968085b9db5c",
   "metadata": {},
   "outputs": [],
   "source": [
    "bests = df.iloc[[i*num_iter + df[df['N'] == N]['J mínimo'].argmin() for i, N in enumerate(N_options)], :]\n",
    "bests"
   ]
  },
  {
   "cell_type": "code",
   "execution_count": null,
   "id": "0488f979-458f-480e-a174-d89ec68bf68e",
   "metadata": {},
   "outputs": [],
   "source": [
    "x_min"
   ]
  },
  {
   "cell_type": "code",
   "execution_count": null,
   "id": "6b4c9aa7-e898-49e4-b214-92673fd370ae",
   "metadata": {},
   "outputs": [],
   "source": []
  }
 ],
 "metadata": {
  "kernelspec": {
   "display_name": "Python 3 (ipykernel)",
   "language": "python",
   "name": "python3"
  },
  "language_info": {
   "codemirror_mode": {
    "name": "ipython",
    "version": 3
   },
   "file_extension": ".py",
   "mimetype": "text/x-python",
   "name": "python",
   "nbconvert_exporter": "python",
   "pygments_lexer": "ipython3",
   "version": "3.10.0"
  }
 },
 "nbformat": 4,
 "nbformat_minor": 5
}
